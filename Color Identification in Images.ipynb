{
 "cells": [
  {
   "cell_type": "markdown",
   "id": "278262eb",
   "metadata": {},
   "source": [
    "# Ali Iqtadar Jafri\n",
    "### #gripmay21 - Computer Vision and IoT\n",
    "\n",
    "## Task 2:- Color Identification in Images"
   ]
  },
  {
   "cell_type": "code",
   "execution_count": 1,
   "id": "faa1e931",
   "metadata": {},
   "outputs": [],
   "source": [
    "#importing dependancies to create an environment\n",
    "import cv2 as cv\n",
    "import pandas as pd"
   ]
  },
  {
   "cell_type": "code",
   "execution_count": 2,
   "id": "dcc35398",
   "metadata": {},
   "outputs": [],
   "source": [
    "#loading both test image and csv file containing color data\n",
    "img_path = 'Images/image_2.jpg'\n",
    "csv_path = 'colors.csv'"
   ]
  },
  {
   "cell_type": "code",
   "execution_count": 3,
   "id": "95226d05",
   "metadata": {},
   "outputs": [],
   "source": [
    "#Reading CSV_file using Pandas and giving names to each column in our dataset:\n",
    "index = ['color', 'color_name', 'hex', 'R', 'G', 'B']\n",
    "\n",
    "#dataset does not have a header. we are passing a custom list of integers as a header.\n",
    "df = pd.read_csv(csv_path, names=index, header=None)"
   ]
  },
  {
   "cell_type": "code",
   "execution_count": 4,
   "id": "3189fdc5",
   "metadata": {},
   "outputs": [],
   "source": [
    "#reading image\n",
    "img = cv.imread(img_path)\n",
    "img = cv.resize(img, (1920,1080))"
   ]
  },
  {
   "cell_type": "code",
   "execution_count": 5,
   "id": "23bc2120",
   "metadata": {},
   "outputs": [],
   "source": [
    "#Function to calculate minimum distance between image color and all colors in our 'dataset'.And return the most matching color :\n",
    "def get_color_name(R,G,B):\n",
    "    minimum = 1000 # minimum threshold of intensity\n",
    "    for i in range(len(df)):\n",
    "        # getting intensity value from image\n",
    "        d = abs(R - int(df.loc[i,'R'])) + abs(G - int(df.loc[i,'G'])) + abs(B - int(df.loc[i,'B'])) \n",
    "        if d <= minimum:\n",
    "            minimum = d\n",
    "            cname = df.loc[i, 'color_name'] # getting color name if intensity is less than threshold\n",
    "    return cname"
   ]
  },
  {
   "cell_type": "code",
   "execution_count": 6,
   "id": "d1e3ae86",
   "metadata": {},
   "outputs": [],
   "source": [
    "#setting status as false unless Mouse move\n",
    "clicked = False\n",
    "\n",
    "#getting R, G & B data from mouse cursor position on X-Y Plane\n",
    "r = g = b = xpos = ypos = 0\n",
    "\n",
    "# Function to draw mouse cursor for easy navigation and to get (x,y) coordinates to Extract BGR range of colors :\n",
    "\n",
    "def draw_function(event, x, y, flags, params):\n",
    "    if event == cv.EVENT_MOUSEMOVE:\n",
    "        global b, g, r, xpos, ypos, clicked\n",
    "    clicked = True\n",
    "    xpos = x\n",
    "    ypos = y\n",
    "    b,g,r = img[y,x]\n",
    "    b = int(b)\n",
    "    g = int(g)\n",
    "    r = int(r)"
   ]
  },
  {
   "cell_type": "code",
   "execution_count": 7,
   "id": "3250cd11",
   "metadata": {},
   "outputs": [],
   "source": [
    "cv.namedWindow('image')\n",
    "cv.setMouseCallback('image', draw_function)"
   ]
  },
  {
   "cell_type": "code",
   "execution_count": 8,
   "id": "565ae5cf",
   "metadata": {},
   "outputs": [],
   "source": [
    "# Function to draw the results. Which shows that which color name is in the particular Area of the image:\n",
    "while True:\n",
    "    cv.imshow('image', img)\n",
    "    if clicked:\n",
    "        cv.rectangle(img, (20,20), (600,80), (b,g,r), -1)\n",
    "        text = get_color_name(r,g,b) + ' R=' + str(r) + ' G=' + str(g) + ' B=' + str(b)\n",
    "        cv.putText(img, text, (50,50), 2,0.8, (255,255,255),2,cv.LINE_AA)\n",
    "        if r+g+b >=600:\n",
    "            cv.putText(img, text, (50,50), 2,0.8, (0,0,0),2,cv.LINE_AA)\n",
    "    if cv.waitKey(1) & 0xFF == ord('q'):\n",
    "        break\n",
    "        \n",
    "cv.destroyAllWindows()"
   ]
  },
  {
   "cell_type": "code",
   "execution_count": null,
   "id": "4ff95ef2",
   "metadata": {},
   "outputs": [],
   "source": []
  }
 ],
 "metadata": {
  "kernelspec": {
   "display_name": "Python 3",
   "language": "python",
   "name": "python3"
  },
  "language_info": {
   "codemirror_mode": {
    "name": "ipython",
    "version": 3
   },
   "file_extension": ".py",
   "mimetype": "text/x-python",
   "name": "python",
   "nbconvert_exporter": "python",
   "pygments_lexer": "ipython3",
   "version": "3.9.5"
  }
 },
 "nbformat": 4,
 "nbformat_minor": 5
}
